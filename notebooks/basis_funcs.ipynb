{
 "cells": [
  {
   "cell_type": "code",
   "execution_count": 3,
   "metadata": {},
   "outputs": [],
   "source": [
    "import numpy as np\n",
    "import pandas as pd\n",
    "import seaborn as sns\n",
    "import matplotlib.pyplot as plt\n",
    "import rho_plus as rp\n",
    "\n",
    "is_dark = True\n",
    "theme, cs = rp.mpl_setup(is_dark=is_dark)"
   ]
  },
  {
   "cell_type": "code",
   "execution_count": 25,
   "metadata": {},
   "outputs": [],
   "source": [
    "origin = np.array([0, 0, 1/6])\n",
    "hull_pts = np.array([( 1/24,-1/4, 1/12),\n",
    "(-5/24, 0,-1/6),\n",
    "( 0, 1/4, 1/12),\n",
    "( 0,-1/4, 1/12),\n",
    "(-1/24,-1/8,-5/24),\n",
    "( 1/8, 5/24, 1/24),\n",
    "(-1/8,-1/24,-5/24),\n",
    "(-1/24, 1/4, 1/12),\n",
    "( 1/4,-1/24, 1/12),\n",
    "( 1/24, 1/4, 1/12),\n",
    "( 5/24, 1/8, 1/24),\n",
    "( 0,-1/4,-1/24),\n",
    "( 0,-5/24,-1/6),\n",
    "(-1/8, 0, 1/12),\n",
    "( 1/4, 0, 1/12),\n",
    "(-1/24,-1/4, 1/12),\n",
    "( 1/4, 1/24, 1/12)])"
   ]
  },
  {
   "cell_type": "code",
   "execution_count": 28,
   "metadata": {},
   "outputs": [
    {
     "name": "stdout",
     "output_type": "stream",
     "text": [
      "<gemmi.SpaceGroup(\"I -4 3 d\")>\n"
     ]
    },
    {
     "data": {
      "application/vnd.jupyter.widget-view+json": {
       "model_id": "f50d29d8f42c4f37afb0566ce0c789e4",
       "version_major": 2,
       "version_minor": 0
      },
      "text/plain": [
       "Widget(value=\"<iframe src='http://localhost:38677/index.html?ui=P_0x76bfae9ae710_19&reconnect=auto' style='wid…"
      ]
     },
     "metadata": {},
     "output_type": "display_data"
    }
   ],
   "source": [
    "import gemmi\n",
    "from cctbx.sgtbx.direct_space_asu.reference_table import get_asu\n",
    "import pyvista as pv\n",
    "from scipy.spatial import ConvexHull, Delaunay\n",
    "\n",
    "pv.set_jupyter_backend('trame')\n",
    "\n",
    "\n",
    "if is_dark:\n",
    "    pv.set_plot_theme('dark')\n",
    "else:\n",
    "    pv.set_plot_theme('default')\n",
    "\n",
    "p: pv.plotting.Plotter = pv.Plotter()\n",
    "\n",
    "sg = gemmi.SpaceGroup(220)\n",
    "print(sg)\n",
    "asu = get_asu(sg.number)\n",
    "\n",
    "def plot_plane(cut, **kwargs):\n",
    "    pl = cut.as_float_cut_plane()\n",
    "    ori = pl.get_point_in_plane()\n",
    "    p.add_mesh(pv.Plane(ori, pl.n), **kwargs)\n",
    "\n",
    "# for cut, color in zip(asu.cuts, cs):\n",
    "#     plot_plane(cut, color=color, opacity=0.5)\n",
    "\n",
    "n_neighbors = 1\n",
    "\n",
    "for op in sg.operations():\n",
    "    im = op.apply_to_xyz(origin)\n",
    "    im_mod = (im - origin + 0.51) % 1 + origin - 0.51\n",
    "    im_mod2 = (im - origin + 0.48) % 1 + origin - 0.48\n",
    "    p.add_mesh(pv.Sphere(0.05, im_mod))\n",
    "    if np.abs(im_mod2 - im_mod).max() >= 0.5:\n",
    "        p.add_mesh(pv.Sphere(0.05, im_mod), color=cs[2])\n",
    "\n",
    "# hull = ConvexHull(asu.shape_vertices())\n",
    "hull = ConvexHull(hull_pts + origin)\n",
    "grid = hull.simplices\n",
    "\n",
    "lat = pv.PolyData.from_regular_faces(hull.points, hull.simplices)\n",
    "p.add_mesh(lat, opacity=0.6)\n",
    "\n",
    "p.show()"
   ]
  },
  {
   "cell_type": "code",
   "execution_count": 154,
   "metadata": {},
   "outputs": [],
   "source": [
    "import Geometry3D as g3\n",
    "\n",
    "def to_geo(cut):\n",
    "    pl = cut.as_float_cut_plane()\n",
    "    ori = pl.get_point_in_plane()\n",
    "    return g3.Plane(g3.Point(ori), g3.Vector(pl.n))\n",
    "\n",
    "pt = g3.Point(np.mean(hull.points, axis=0))\n",
    "\n",
    "cut = asu.cuts[0]\n",
    "pl = to_geo(cut)\n",
    "ref_line = g3.Line(pt, pl.n)\n",
    "proj = g3.intersection(ref_line, pl)\n",
    "mirror = g3.Point(pt.pv() + 2 * (pt.pv() - proj.pv()))\n",
    "\n",
    "pvec = np.array(pt.pv()._v)\n",
    "mvec = np.array(mirror.pv()._v)\n"
   ]
  },
  {
   "cell_type": "code",
   "execution_count": 156,
   "metadata": {},
   "outputs": [
    {
     "name": "stdout",
     "output_type": "stream",
     "text": [
      "<gemmi.Op(\"x,y,z\")> [ 0.16666667  0.         -0.16666667]\n",
      "<gemmi.Op(\"-y+3/4,x+1/4,z+3/4\")> [0.33333333 0.125      0.58333333]\n",
      "<gemmi.Op(\"-x+1/2,-y,z+1/2\")> [ 0.20833333 -0.70833333  0.33333333]\n",
      "<gemmi.Op(\"y+3/4,-x+3/4,z+1/4\")> [1.04166667 0.16666667 0.08333333]\n",
      "<gemmi.Op(\"x+1/2,-y+1/2,-z\")> [ 0.66666667 -0.20833333  0.04166667]\n",
      "<gemmi.Op(\"-y+1/4,-x+1/4,-z+1/4\")> [-0.16666667 -0.33333333  0.29166667]\n",
      "<gemmi.Op(\"-x,y+1/2,-z+1/2\")> [-0.29166667  0.5         0.54166667]\n",
      "<gemmi.Op(\"y+1/4,x+3/4,-z+3/4\")> [0.54166667 0.625      0.79166667]\n",
      "<gemmi.Op(\"z,x,y\")> [-0.16666667 -0.125       0.29166667]\n",
      "<gemmi.Op(\"z+3/4,-y+3/4,x+1/4\")> [0.58333333 0.04166667 0.41666667]\n",
      "<gemmi.Op(\"z+1/2,-x+1/2,-y\")> [ 0.33333333 -0.08333333 -0.41666667]\n",
      "<gemmi.Op(\"z+1/4,y+3/4,-x+3/4\")> [0.08333333 0.75       0.45833333]\n",
      "<gemmi.Op(\"-z,x+1/2,-y+1/2\")> [0.04166667 0.375      0.08333333]\n",
      "<gemmi.Op(\"-z+1/4,-y+1/4,-x+1/4\")> [ 0.29166667 -0.45833333 -0.04166667]\n",
      "<gemmi.Op(\"-z+1/2,-x,y+1/2\")> [ 0.54166667 -0.58333333  0.79166667]\n",
      "<gemmi.Op(\"-z+3/4,y+1/4,x+3/4\")> [0.79166667 0.25       0.91666667]\n",
      "<gemmi.Op(\"-x+3/4,z+1/4,y+3/4\")> [ 0.45833333 -0.20833333  1.04166667]\n",
      "<gemmi.Op(\"y,z,x\")> [ 0.29166667 -0.45833333  0.16666667]\n",
      "<gemmi.Op(\"x+1/4,z+3/4,-y+3/4\")> [0.41666667 0.29166667 0.33333333]\n",
      "<gemmi.Op(\"-y,z+1/2,-x+1/2\")> [-0.41666667  0.04166667  0.20833333]\n",
      "<gemmi.Op(\"-x+1/4,-z+1/4,-y+1/4\")> [-0.04166667  0.         -0.16666667]\n",
      "<gemmi.Op(\"y+1/2,-z+1/2,-x\")> [ 0.79166667  0.25       -0.29166667]\n",
      "<gemmi.Op(\"x+3/4,-z+3/4,y+1/4\")> [0.91666667 0.5        0.54166667]\n",
      "<gemmi.Op(\"-y+1/2,-z,x+1/2\")> [ 0.08333333 -0.25        0.66666667]\n"
     ]
    },
    {
     "data": {
      "text/plain": [
       "array([-0.08333333,  0.25      , -0.66666667])"
      ]
     },
     "execution_count": 156,
     "metadata": {},
     "output_type": "execute_result"
    }
   ],
   "source": [
    "for op in sg.operations().sym_ops:\n",
    "    op: gemmi.Op = op\n",
    "    out = np.array(op.apply_to_xyz(pvec))\n",
    "    print(op, out - mvec)\n",
    "    if np.abs((out - mvec) % 1).sum() <= 1e-1:\n",
    "        print(op)\n",
    "        break\n",
    "\n",
    "mvec - op.apply_to_xyz(pvec)"
   ]
  },
  {
   "cell_type": "code",
   "execution_count": 161,
   "metadata": {},
   "outputs": [
    {
     "name": "stdout",
     "output_type": "stream",
     "text": [
      "Hall symbol: P 4acd 2ab 3\n",
      "Number of cuts: 6\n",
      "    & zx2\n",
      "    & -yz0(-zx2)\n",
      "    & ~yz2(tx0)\n",
      "    & -tx0(x8)\n",
      "    & ty0(y8)\n",
      "    & tz2(-x1*3/8)\n"
     ]
    },
    {
     "data": {
      "text/plain": [
       "<cctbx.sgtbx.direct_space_asu.direct_space_asu at 0x7c331e18c5b0>"
      ]
     },
     "execution_count": 161,
     "metadata": {},
     "output_type": "execute_result"
    }
   ],
   "source": [
    "asu.show_comprehensive_summary()"
   ]
  },
  {
   "cell_type": "code",
   "execution_count": null,
   "metadata": {},
   "outputs": [],
   "source": []
  }
 ],
 "metadata": {
  "kernelspec": {
   "display_name": "baysic",
   "language": "python",
   "name": "python3"
  },
  "language_info": {
   "codemirror_mode": {
    "name": "ipython",
    "version": 3
   },
   "file_extension": ".py",
   "mimetype": "text/x-python",
   "name": "python",
   "nbconvert_exporter": "python",
   "pygments_lexer": "ipython3",
   "version": "3.10.12"
  }
 },
 "nbformat": 4,
 "nbformat_minor": 2
}
